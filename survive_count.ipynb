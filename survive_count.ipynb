{
 "cells": [
  {
   "cell_type": "code",
   "execution_count": 2,
   "id": "159bb389-c0b1-49cd-927c-0f2d0107d0aa",
   "metadata": {},
   "outputs": [
    {
     "name": "stdout",
     "output_type": "stream",
     "text": [
      "Number of male survivors: 109\n",
      "                                Name   Sex   Age  Pclass     Fare\n",
      "17      Williams, Mr. Charles Eugene  male   NaN       2  13.0000\n",
      "21             Beesley, Mr. Lawrence  male  34.0       2  13.0000\n",
      "23      Sloper, Mr. William Thompson  male  28.0       1  35.5000\n",
      "36                  Mamee, Mr. Hanna  male   NaN       3   7.2292\n",
      "55                 Woolner, Mr. Hugh  male   NaN       1  35.5000\n",
      "..                               ...   ...   ...     ...      ...\n",
      "838                  Chip, Mr. Chang  male  32.0       3  56.4958\n",
      "839             Marechal, Mr. Pierre  male   NaN       1  29.7000\n",
      "857           Daly, Mr. Peter Denis   male  51.0       1  26.5500\n",
      "869  Johnson, Master. Harold Theodor  male   4.0       3  11.1333\n",
      "889            Behr, Mr. Karl Howell  male  26.0       1  30.0000\n",
      "\n",
      "[109 rows x 5 columns]\n",
      "Number of female survivors: 233\n",
      "                                                  Name     Sex   Age  Pclass  \\\n",
      "1    Cumings, Mrs. John Bradley (Florence Briggs Th...  female  38.0       1   \n",
      "2                               Heikkinen, Miss. Laina  female  26.0       3   \n",
      "3         Futrelle, Mrs. Jacques Heath (Lily May Peel)  female  35.0       1   \n",
      "8    Johnson, Mrs. Oscar W (Elisabeth Vilhelmina Berg)  female  27.0       3   \n",
      "9                  Nasser, Mrs. Nicholas (Adele Achem)  female  14.0       2   \n",
      "..                                                 ...     ...   ...     ...   \n",
      "874              Abelson, Mrs. Samuel (Hannah Wizosky)  female  28.0       2   \n",
      "875                   Najib, Miss. Adele Kiamie \"Jane\"  female  15.0       3   \n",
      "879      Potter, Mrs. Thomas Jr (Lily Alexenia Wilson)  female  56.0       1   \n",
      "880       Shelley, Mrs. William (Imanita Parrish Hall)  female  25.0       2   \n",
      "887                       Graham, Miss. Margaret Edith  female  19.0       1   \n",
      "\n",
      "        Fare  \n",
      "1    71.2833  \n",
      "2     7.9250  \n",
      "3    53.1000  \n",
      "8    11.1333  \n",
      "9    30.0708  \n",
      "..       ...  \n",
      "874  24.0000  \n",
      "875   7.2250  \n",
      "879  83.1583  \n",
      "880  26.0000  \n",
      "887  30.0000  \n",
      "\n",
      "[233 rows x 5 columns]\n"
     ]
    }
   ],
   "source": [
    "import pandas as pd\n",
    "\n",
    "# Read the Titanic dataset\n",
    "df = pd.read_csv('titanic.csv')\n",
    "\n",
    "# Filter the dataset to include only male survivors\n",
    "male_survivors = df[(df['Sex'] == 'male') & (df['Survived'] == 1)]\n",
    "# Filter the dataset to include only female survivors\n",
    "female_survivors = df[(df['Sex'] == 'female') & (df['Survived'] == 1)]\n",
    "\n",
    "# Count the number of male and female survivors\n",
    "num_male_survivors = male_survivors.shape[0]\n",
    "num_female_survivors = female_survivors.shape[0]\n",
    "\n",
    "# Display the number of male and female survivors and their names\n",
    "print(f\"Number of male survivors: {num_male_survivors}\")\n",
    "print(male_survivors[['Name', 'Sex', 'Age', 'Pclass', 'Fare']])\n",
    "\n",
    "print(f\"Number of female survivors: {num_female_survivors}\")\n",
    "print(female_survivors[['Name', 'Sex', 'Age', 'Pclass', 'Fare']])\n"
   ]
  },
  {
   "cell_type": "code",
   "execution_count": null,
   "id": "449dee08-d548-4723-8191-56416f1fc1e2",
   "metadata": {},
   "outputs": [],
   "source": []
  }
 ],
 "metadata": {
  "kernelspec": {
   "display_name": "Python 3 (ipykernel)",
   "language": "python",
   "name": "python3"
  },
  "language_info": {
   "codemirror_mode": {
    "name": "ipython",
    "version": 3
   },
   "file_extension": ".py",
   "mimetype": "text/x-python",
   "name": "python",
   "nbconvert_exporter": "python",
   "pygments_lexer": "ipython3",
   "version": "3.11.1"
  }
 },
 "nbformat": 4,
 "nbformat_minor": 5
}
