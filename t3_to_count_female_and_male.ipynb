{
 "cells": [
  {
   "cell_type": "code",
   "execution_count": 5,
   "id": "adb537fa-acb8-43ab-a10b-597f141b4d8e",
   "metadata": {},
   "outputs": [
    {
     "name": "stdout",
     "output_type": "stream",
     "text": [
      "Number of male passengers: 577\n",
      "                               Name   Sex   Age  Pclass     Fare\n",
      "0           Braund, Mr. Owen Harris  male  22.0       3   7.2500\n",
      "4          Allen, Mr. William Henry  male  35.0       3   8.0500\n",
      "5                  Moran, Mr. James  male   NaN       3   8.4583\n",
      "6           McCarthy, Mr. Timothy J  male  54.0       1  51.8625\n",
      "7    Palsson, Master. Gosta Leonard  male   2.0       3  21.0750\n",
      "..                              ...   ...   ...     ...      ...\n",
      "883   Banfield, Mr. Frederick James  male  28.0       2  10.5000\n",
      "884          Sutehall, Mr. Henry Jr  male  25.0       3   7.0500\n",
      "886           Montvila, Rev. Juozas  male  27.0       2  13.0000\n",
      "889           Behr, Mr. Karl Howell  male  26.0       1  30.0000\n",
      "890             Dooley, Mr. Patrick  male  32.0       3   7.7500\n",
      "\n",
      "[577 rows x 5 columns]\n",
      "Number of female passengers: 314\n",
      "                                                  Name     Sex   Age  Pclass  \\\n",
      "1    Cumings, Mrs. John Bradley (Florence Briggs Th...  female  38.0       1   \n",
      "2                               Heikkinen, Miss. Laina  female  26.0       3   \n",
      "3         Futrelle, Mrs. Jacques Heath (Lily May Peel)  female  35.0       1   \n",
      "8    Johnson, Mrs. Oscar W (Elisabeth Vilhelmina Berg)  female  27.0       3   \n",
      "9                  Nasser, Mrs. Nicholas (Adele Achem)  female  14.0       2   \n",
      "..                                                 ...     ...   ...     ...   \n",
      "880       Shelley, Mrs. William (Imanita Parrish Hall)  female  25.0       2   \n",
      "882                       Dahlberg, Miss. Gerda Ulrika  female  22.0       3   \n",
      "885               Rice, Mrs. William (Margaret Norton)  female  39.0       3   \n",
      "887                       Graham, Miss. Margaret Edith  female  19.0       1   \n",
      "888           Johnston, Miss. Catherine Helen \"Carrie\"  female   NaN       3   \n",
      "\n",
      "        Fare  \n",
      "1    71.2833  \n",
      "2     7.9250  \n",
      "3    53.1000  \n",
      "8    11.1333  \n",
      "9    30.0708  \n",
      "..       ...  \n",
      "880  26.0000  \n",
      "882  10.5167  \n",
      "885  29.1250  \n",
      "887  30.0000  \n",
      "888  23.4500  \n",
      "\n",
      "[314 rows x 5 columns]\n"
     ]
    }
   ],
   "source": [
    "import pandas as pd\n",
    "\n",
    "# Read the Titanic dataset\n",
    "df = pd.read_csv('titanic.csv')\n",
    "\n",
    "# Filter the dataset to include only male passengers\n",
    "male_passengers = df[df['Sex'] == 'male']\n",
    "# Filter the dataset to include only female passengers\n",
    "female_passengers = df[df['Sex'] == 'female']\n",
    "\n",
    "# Display the number of male passengers and their details\n",
    "print(f\"Number of male passengers: {male_passengers.shape[0]}\")\n",
    "print(male_passengers[['Name', 'Sex', 'Age', 'Pclass', 'Fare']])\n",
    "\n",
    "# Display the number of female passengers and their details\n",
    "print(f\"Number of female passengers: {female_passengers.shape[0]}\")\n",
    "print(female_passengers[['Name', 'Sex', 'Age', 'Pclass', 'Fare']])\n",
    "\n"
   ]
  },
  {
   "cell_type": "code",
   "execution_count": null,
   "id": "33f7eb93-ebfc-4daa-a93c-44757ae7c231",
   "metadata": {},
   "outputs": [],
   "source": []
  }
 ],
 "metadata": {
  "kernelspec": {
   "display_name": "Python 3 (ipykernel)",
   "language": "python",
   "name": "python3"
  },
  "language_info": {
   "codemirror_mode": {
    "name": "ipython",
    "version": 3
   },
   "file_extension": ".py",
   "mimetype": "text/x-python",
   "name": "python",
   "nbconvert_exporter": "python",
   "pygments_lexer": "ipython3",
   "version": "3.11.1"
  }
 },
 "nbformat": 4,
 "nbformat_minor": 5
}
